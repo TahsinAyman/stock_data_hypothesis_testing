{
 "cells": [
  {
   "cell_type": "code",
   "execution_count": 7,
   "metadata": {},
   "outputs": [
    {
     "name": "stdout",
     "output_type": "stream",
     "text": []
      
     }
   ],
   "source": [
    "import kagglehub as kh\n",
    "import os.path as path\n",
    "import os\n",
    "import pandas as pd\n",
    "\n",
    "means_monday, means_other = [], []\n",
    "\n",
    "p = kh.dataset_download('borismarjanovic/price-volume-data-for-all-us-stocks-etfs')\n",
    "p = path.join(p, \"Data/Stocks\")\n",
    "dir_list = os.listdir(p)\n",
    "for i in dir_list:\n",
    "  try:\n",
    "    df = pd.read_csv(path.join(p, i))\n",
    "    means_monday.append(df[pd.to_datetime(df['Date']).dt.strftime(\"%A\") == 'Monday']['Close'].mean())\n",
    "    means_other.append(df[pd.to_datetime(df['Date']).dt.strftime(\"%A\") != 'Monday']['Close'].mean())\n",
    "  except Exception as e:\n",
    "    pass"
   ]
  },
  {
   "attachments": {
    "image.png": {
     "image/png": "[encoded data removed]"
    }
   },
   "cell_type": "markdown",
   "metadata": {},
   "source": [
    "![image.png](attachment:image.png)"
   ]
  },
  {
   "cell_type": "code",
   "execution_count": 8,
   "metadata": {},
   "outputs": [
    {
     "data": {
      "text/plain": [
       "np.float64(0.008677277655022186)"
      ]
     },
     "execution_count": 8,
     "metadata": {},
     "output_type": "execute_result"
    }
   ],
   "source": [
    "import numpy as np\n",
    "import math\n",
    "\n",
    "monday_var = np.nanvar(means_monday)\n",
    "other_var = np.nanvar(means_other)\n",
    "n = len(means_other)\n",
    "\n",
    "Z = (np.nanmean(means_monday) - np.nanmean(means_other)) / math.sqrt((monday_var + other_var) / n)\n",
    "Z"
   ]
  },
  {
   "cell_type": "code",
   "execution_count": 9,
   "metadata": {},
   "outputs": [
    {
     "data": {
      "text/plain": [
       "np.float64(1.959963984540054)"
      ]
     },
     "execution_count": 9,
     "metadata": {},
     "output_type": "execute_result"
    }
   ],
   "source": [
    "from scipy.stats import norm\n",
    "\n",
    "alpha = 0.05 \n",
    "c = norm.ppf(1 - alpha / 2)\n",
    "c"
   ]
  },
  {
   "cell_type": "code",
   "execution_count": 10,
   "metadata": {},
   "outputs": [
    {
     "name": "stdout",
     "output_type": "stream",
     "text": [
      "stock prices on Mondays and other days are almost identical\n"
     ]
    }
   ],
   "source": [
    "if -c < Z < c:\n",
    "  print(\"stock prices on Mondays and other days are almost identical\")\n",
    "else:\n",
    "  print(\"stock prices on Mondays and other days are not identical\")"
   ]
  }
 ],
 "metadata": {
  "kernelspec": {
   "display_name": "Python 3",
   "language": "python",
   "name": "python3"
  },
  "language_info": {
   "codemirror_mode": {
    "name": "ipython",
    "version": 3
   },
   "file_extension": ".py",
   "mimetype": "text/x-python",
   "name": "python",
   "nbconvert_exporter": "python",
   "pygments_lexer": "ipython3",
   "version": "3.13.1"
  }
 },
 "nbformat": 4,
 "nbformat_minor": 2
}
